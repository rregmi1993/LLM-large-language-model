{
  "nbformat": 4,
  "nbformat_minor": 0,
  "metadata": {
    "colab": {
      "provenance": [],
      "authorship_tag": "ABX9TyNSC8F3niMefEWmTjMITFpH",
      "include_colab_link": true
    },
    "kernelspec": {
      "name": "python3",
      "display_name": "Python 3"
    },
    "language_info": {
      "name": "python"
    }
  },
  "cells": [
    {
      "cell_type": "markdown",
      "metadata": {
        "id": "view-in-github",
        "colab_type": "text"
      },
      "source": [
        "<a href=\"https://colab.research.google.com/github/rregmi1993/LLM-large-language-model/blob/main/4_Custom_ChatGPT_Application_with_LangChain.ipynb\" target=\"_parent\"><img src=\"https://colab.research.google.com/assets/colab-badge.svg\" alt=\"Open In Colab\"/></a>"
      ]
    },
    {
      "cell_type": "code",
      "execution_count": 2,
      "metadata": {
        "colab": {
          "base_uri": "https://localhost:8080/"
        },
        "id": "E_AkRGLe3VpR",
        "outputId": "497b8516-9efd-471e-f021-7144a68df8bc"
      },
      "outputs": [
        {
          "output_type": "stream",
          "name": "stdout",
          "text": [
            "Collecting openai (from -r ./requirement.txt (line 1))\n",
            "  Downloading openai-1.5.0-py3-none-any.whl (223 kB)\n",
            "\u001b[2K     \u001b[90m━━━━━━━━━━━━━━━━━━━━━━━━━━━━━━━━━━━━━━━━\u001b[0m \u001b[32m223.7/223.7 kB\u001b[0m \u001b[31m3.8 MB/s\u001b[0m eta \u001b[36m0:00:00\u001b[0m\n",
            "\u001b[?25hCollecting langchain (from -r ./requirement.txt (line 2))\n",
            "  Downloading langchain-0.0.350-py3-none-any.whl (809 kB)\n",
            "\u001b[2K     \u001b[90m━━━━━━━━━━━━━━━━━━━━━━━━━━━━━━━━━━━━━━━━\u001b[0m \u001b[32m809.1/809.1 kB\u001b[0m \u001b[31m9.5 MB/s\u001b[0m eta \u001b[36m0:00:00\u001b[0m\n",
            "\u001b[?25hCollecting pinecone-client (from -r ./requirement.txt (line 3))\n",
            "  Downloading pinecone_client-2.2.4-py3-none-any.whl (179 kB)\n",
            "\u001b[2K     \u001b[90m━━━━━━━━━━━━━━━━━━━━━━━━━━━━━━━━━━━━━━━━\u001b[0m \u001b[32m179.4/179.4 kB\u001b[0m \u001b[31m9.0 MB/s\u001b[0m eta \u001b[36m0:00:00\u001b[0m\n",
            "\u001b[?25hCollecting python-dotenv (from -r ./requirement.txt (line 4))\n",
            "  Downloading python_dotenv-1.0.0-py3-none-any.whl (19 kB)\n",
            "Collecting tiktoken (from -r ./requirement.txt (line 5))\n",
            "  Downloading tiktoken-0.5.2-cp310-cp310-manylinux_2_17_x86_64.manylinux2014_x86_64.whl (2.0 MB)\n",
            "\u001b[2K     \u001b[90m━━━━━━━━━━━━━━━━━━━━━━━━━━━━━━━━━━━━━━━━\u001b[0m \u001b[32m2.0/2.0 MB\u001b[0m \u001b[31m14.1 MB/s\u001b[0m eta \u001b[36m0:00:00\u001b[0m\n",
            "\u001b[?25hRequirement already satisfied: llmx in /usr/local/lib/python3.10/dist-packages (from -r ./requirement.txt (line 6)) (0.0.15a0)\n",
            "Requirement already satisfied: anyio<5,>=3.5.0 in /usr/local/lib/python3.10/dist-packages (from openai->-r ./requirement.txt (line 1)) (3.7.1)\n",
            "Requirement already satisfied: distro<2,>=1.7.0 in /usr/lib/python3/dist-packages (from openai->-r ./requirement.txt (line 1)) (1.7.0)\n",
            "Collecting httpx<1,>=0.23.0 (from openai->-r ./requirement.txt (line 1))\n",
            "  Downloading httpx-0.25.2-py3-none-any.whl (74 kB)\n",
            "\u001b[2K     \u001b[90m━━━━━━━━━━━━━━━━━━━━━━━━━━━━━━━━━━━━━━━━\u001b[0m \u001b[32m75.0/75.0 kB\u001b[0m \u001b[31m7.2 MB/s\u001b[0m eta \u001b[36m0:00:00\u001b[0m\n",
            "\u001b[?25hRequirement already satisfied: pydantic<3,>=1.9.0 in /usr/local/lib/python3.10/dist-packages (from openai->-r ./requirement.txt (line 1)) (1.10.13)\n",
            "Requirement already satisfied: sniffio in /usr/local/lib/python3.10/dist-packages (from openai->-r ./requirement.txt (line 1)) (1.3.0)\n",
            "Requirement already satisfied: tqdm>4 in /usr/local/lib/python3.10/dist-packages (from openai->-r ./requirement.txt (line 1)) (4.66.1)\n",
            "Requirement already satisfied: typing-extensions<5,>=4.5 in /usr/local/lib/python3.10/dist-packages (from openai->-r ./requirement.txt (line 1)) (4.5.0)\n",
            "Requirement already satisfied: PyYAML>=5.3 in /usr/local/lib/python3.10/dist-packages (from langchain->-r ./requirement.txt (line 2)) (6.0.1)\n",
            "Requirement already satisfied: SQLAlchemy<3,>=1.4 in /usr/local/lib/python3.10/dist-packages (from langchain->-r ./requirement.txt (line 2)) (2.0.23)\n",
            "Requirement already satisfied: aiohttp<4.0.0,>=3.8.3 in /usr/local/lib/python3.10/dist-packages (from langchain->-r ./requirement.txt (line 2)) (3.9.1)\n",
            "Requirement already satisfied: async-timeout<5.0.0,>=4.0.0 in /usr/local/lib/python3.10/dist-packages (from langchain->-r ./requirement.txt (line 2)) (4.0.3)\n",
            "Collecting dataclasses-json<0.7,>=0.5.7 (from langchain->-r ./requirement.txt (line 2))\n",
            "  Downloading dataclasses_json-0.6.3-py3-none-any.whl (28 kB)\n",
            "Collecting jsonpatch<2.0,>=1.33 (from langchain->-r ./requirement.txt (line 2))\n",
            "  Downloading jsonpatch-1.33-py2.py3-none-any.whl (12 kB)\n",
            "Collecting langchain-community<0.1,>=0.0.2 (from langchain->-r ./requirement.txt (line 2))\n",
            "  Downloading langchain_community-0.0.3-py3-none-any.whl (1.5 MB)\n",
            "\u001b[2K     \u001b[90m━━━━━━━━━━━━━━━━━━━━━━━━━━━━━━━━━━━━━━━━\u001b[0m \u001b[32m1.5/1.5 MB\u001b[0m \u001b[31m19.6 MB/s\u001b[0m eta \u001b[36m0:00:00\u001b[0m\n",
            "\u001b[?25hCollecting langchain-core<0.2,>=0.1 (from langchain->-r ./requirement.txt (line 2))\n",
            "  Downloading langchain_core-0.1.1-py3-none-any.whl (190 kB)\n",
            "\u001b[2K     \u001b[90m━━━━━━━━━━━━━━━━━━━━━━━━━━━━━━━━━━━━━━━━\u001b[0m \u001b[32m190.6/190.6 kB\u001b[0m \u001b[31m19.1 MB/s\u001b[0m eta \u001b[36m0:00:00\u001b[0m\n",
            "\u001b[?25hCollecting langsmith<0.1.0,>=0.0.63 (from langchain->-r ./requirement.txt (line 2))\n",
            "  Downloading langsmith-0.0.71-py3-none-any.whl (46 kB)\n",
            "\u001b[2K     \u001b[90m━━━━━━━━━━━━━━━━━━━━━━━━━━━━━━━━━━━━━━━━\u001b[0m \u001b[32m46.2/46.2 kB\u001b[0m \u001b[31m4.8 MB/s\u001b[0m eta \u001b[36m0:00:00\u001b[0m\n",
            "\u001b[?25hRequirement already satisfied: numpy<2,>=1 in /usr/local/lib/python3.10/dist-packages (from langchain->-r ./requirement.txt (line 2)) (1.23.5)\n",
            "Requirement already satisfied: requests<3,>=2 in /usr/local/lib/python3.10/dist-packages (from langchain->-r ./requirement.txt (line 2)) (2.31.0)\n",
            "Requirement already satisfied: tenacity<9.0.0,>=8.1.0 in /usr/local/lib/python3.10/dist-packages (from langchain->-r ./requirement.txt (line 2)) (8.2.3)\n",
            "Collecting loguru>=0.5.0 (from pinecone-client->-r ./requirement.txt (line 3))\n",
            "  Downloading loguru-0.7.2-py3-none-any.whl (62 kB)\n",
            "\u001b[2K     \u001b[90m━━━━━━━━━━━━━━━━━━━━━━━━━━━━━━━━━━━━━━━━\u001b[0m \u001b[32m62.5/62.5 kB\u001b[0m \u001b[31m6.7 MB/s\u001b[0m eta \u001b[36m0:00:00\u001b[0m\n",
            "\u001b[?25hCollecting dnspython>=2.0.0 (from pinecone-client->-r ./requirement.txt (line 3))\n",
            "  Downloading dnspython-2.4.2-py3-none-any.whl (300 kB)\n",
            "\u001b[2K     \u001b[90m━━━━━━━━━━━━━━━━━━━━━━━━━━━━━━━━━━━━━━━━\u001b[0m \u001b[32m300.4/300.4 kB\u001b[0m \u001b[31m23.7 MB/s\u001b[0m eta \u001b[36m0:00:00\u001b[0m\n",
            "\u001b[?25hRequirement already satisfied: python-dateutil>=2.5.3 in /usr/local/lib/python3.10/dist-packages (from pinecone-client->-r ./requirement.txt (line 3)) (2.8.2)\n",
            "Requirement already satisfied: urllib3>=1.21.1 in /usr/local/lib/python3.10/dist-packages (from pinecone-client->-r ./requirement.txt (line 3)) (2.0.7)\n",
            "Requirement already satisfied: regex>=2022.1.18 in /usr/local/lib/python3.10/dist-packages (from tiktoken->-r ./requirement.txt (line 5)) (2023.6.3)\n",
            "Requirement already satisfied: diskcache in /usr/local/lib/python3.10/dist-packages (from llmx->-r ./requirement.txt (line 6)) (5.6.3)\n",
            "Collecting cohere (from llmx->-r ./requirement.txt (line 6))\n",
            "  Downloading cohere-4.39-py3-none-any.whl (51 kB)\n",
            "\u001b[2K     \u001b[90m━━━━━━━━━━━━━━━━━━━━━━━━━━━━━━━━━━━━━━━━\u001b[0m \u001b[32m51.7/51.7 kB\u001b[0m \u001b[31m5.9 MB/s\u001b[0m eta \u001b[36m0:00:00\u001b[0m\n",
            "\u001b[?25hRequirement already satisfied: google.auth in /usr/local/lib/python3.10/dist-packages (from llmx->-r ./requirement.txt (line 6)) (2.17.3)\n",
            "Requirement already satisfied: typer in /usr/local/lib/python3.10/dist-packages (from llmx->-r ./requirement.txt (line 6)) (0.9.0)\n",
            "Requirement already satisfied: attrs>=17.3.0 in /usr/local/lib/python3.10/dist-packages (from aiohttp<4.0.0,>=3.8.3->langchain->-r ./requirement.txt (line 2)) (23.1.0)\n",
            "Requirement already satisfied: multidict<7.0,>=4.5 in /usr/local/lib/python3.10/dist-packages (from aiohttp<4.0.0,>=3.8.3->langchain->-r ./requirement.txt (line 2)) (6.0.4)\n",
            "Requirement already satisfied: yarl<2.0,>=1.0 in /usr/local/lib/python3.10/dist-packages (from aiohttp<4.0.0,>=3.8.3->langchain->-r ./requirement.txt (line 2)) (1.9.4)\n",
            "Requirement already satisfied: frozenlist>=1.1.1 in /usr/local/lib/python3.10/dist-packages (from aiohttp<4.0.0,>=3.8.3->langchain->-r ./requirement.txt (line 2)) (1.4.0)\n",
            "Requirement already satisfied: aiosignal>=1.1.2 in /usr/local/lib/python3.10/dist-packages (from aiohttp<4.0.0,>=3.8.3->langchain->-r ./requirement.txt (line 2)) (1.3.1)\n",
            "Requirement already satisfied: idna>=2.8 in /usr/local/lib/python3.10/dist-packages (from anyio<5,>=3.5.0->openai->-r ./requirement.txt (line 1)) (3.6)\n",
            "Requirement already satisfied: exceptiongroup in /usr/local/lib/python3.10/dist-packages (from anyio<5,>=3.5.0->openai->-r ./requirement.txt (line 1)) (1.2.0)\n",
            "Collecting marshmallow<4.0.0,>=3.18.0 (from dataclasses-json<0.7,>=0.5.7->langchain->-r ./requirement.txt (line 2))\n",
            "  Downloading marshmallow-3.20.1-py3-none-any.whl (49 kB)\n",
            "\u001b[2K     \u001b[90m━━━━━━━━━━━━━━━━━━━━━━━━━━━━━━━━━━━━━━━━\u001b[0m \u001b[32m49.4/49.4 kB\u001b[0m \u001b[31m5.6 MB/s\u001b[0m eta \u001b[36m0:00:00\u001b[0m\n",
            "\u001b[?25hCollecting typing-inspect<1,>=0.4.0 (from dataclasses-json<0.7,>=0.5.7->langchain->-r ./requirement.txt (line 2))\n",
            "  Downloading typing_inspect-0.9.0-py3-none-any.whl (8.8 kB)\n",
            "Requirement already satisfied: certifi in /usr/local/lib/python3.10/dist-packages (from httpx<1,>=0.23.0->openai->-r ./requirement.txt (line 1)) (2023.11.17)\n",
            "Collecting httpcore==1.* (from httpx<1,>=0.23.0->openai->-r ./requirement.txt (line 1))\n",
            "  Downloading httpcore-1.0.2-py3-none-any.whl (76 kB)\n",
            "\u001b[2K     \u001b[90m━━━━━━━━━━━━━━━━━━━━━━━━━━━━━━━━━━━━━━━━\u001b[0m \u001b[32m76.9/76.9 kB\u001b[0m \u001b[31m9.3 MB/s\u001b[0m eta \u001b[36m0:00:00\u001b[0m\n",
            "\u001b[?25hCollecting h11<0.15,>=0.13 (from httpcore==1.*->httpx<1,>=0.23.0->openai->-r ./requirement.txt (line 1))\n",
            "  Downloading h11-0.14.0-py3-none-any.whl (58 kB)\n",
            "\u001b[2K     \u001b[90m━━━━━━━━━━━━━━━━━━━━━━━━━━━━━━━━━━━━━━━━\u001b[0m \u001b[32m58.3/58.3 kB\u001b[0m \u001b[31m6.4 MB/s\u001b[0m eta \u001b[36m0:00:00\u001b[0m\n",
            "\u001b[?25hCollecting jsonpointer>=1.9 (from jsonpatch<2.0,>=1.33->langchain->-r ./requirement.txt (line 2))\n",
            "  Downloading jsonpointer-2.4-py2.py3-none-any.whl (7.8 kB)\n",
            "Requirement already satisfied: packaging<24.0,>=23.2 in /usr/local/lib/python3.10/dist-packages (from langchain-core<0.2,>=0.1->langchain->-r ./requirement.txt (line 2)) (23.2)\n",
            "Requirement already satisfied: six>=1.5 in /usr/local/lib/python3.10/dist-packages (from python-dateutil>=2.5.3->pinecone-client->-r ./requirement.txt (line 3)) (1.16.0)\n",
            "Requirement already satisfied: charset-normalizer<4,>=2 in /usr/local/lib/python3.10/dist-packages (from requests<3,>=2->langchain->-r ./requirement.txt (line 2)) (3.3.2)\n",
            "Requirement already satisfied: greenlet!=0.4.17 in /usr/local/lib/python3.10/dist-packages (from SQLAlchemy<3,>=1.4->langchain->-r ./requirement.txt (line 2)) (3.0.2)\n",
            "Collecting backoff<3.0,>=2.0 (from cohere->llmx->-r ./requirement.txt (line 6))\n",
            "  Downloading backoff-2.2.1-py3-none-any.whl (15 kB)\n",
            "Collecting fastavro<2.0,>=1.8 (from cohere->llmx->-r ./requirement.txt (line 6))\n",
            "  Downloading fastavro-1.9.1-cp310-cp310-manylinux_2_17_x86_64.manylinux2014_x86_64.whl (3.1 MB)\n",
            "\u001b[2K     \u001b[90m━━━━━━━━━━━━━━━━━━━━━━━━━━━━━━━━━━━━━━━━\u001b[0m \u001b[32m3.1/3.1 MB\u001b[0m \u001b[31m27.1 MB/s\u001b[0m eta \u001b[36m0:00:00\u001b[0m\n",
            "\u001b[?25hCollecting importlib_metadata<7.0,>=6.0 (from cohere->llmx->-r ./requirement.txt (line 6))\n",
            "  Downloading importlib_metadata-6.11.0-py3-none-any.whl (23 kB)\n",
            "Requirement already satisfied: cachetools<6.0,>=2.0.0 in /usr/local/lib/python3.10/dist-packages (from google.auth->llmx->-r ./requirement.txt (line 6)) (5.3.2)\n",
            "Requirement already satisfied: pyasn1-modules>=0.2.1 in /usr/local/lib/python3.10/dist-packages (from google.auth->llmx->-r ./requirement.txt (line 6)) (0.3.0)\n",
            "Requirement already satisfied: rsa<5,>=3.1.4 in /usr/local/lib/python3.10/dist-packages (from google.auth->llmx->-r ./requirement.txt (line 6)) (4.9)\n",
            "Requirement already satisfied: click<9.0.0,>=7.1.1 in /usr/local/lib/python3.10/dist-packages (from typer->llmx->-r ./requirement.txt (line 6)) (8.1.7)\n",
            "Requirement already satisfied: zipp>=0.5 in /usr/local/lib/python3.10/dist-packages (from importlib_metadata<7.0,>=6.0->cohere->llmx->-r ./requirement.txt (line 6)) (3.17.0)\n",
            "Requirement already satisfied: pyasn1<0.6.0,>=0.4.6 in /usr/local/lib/python3.10/dist-packages (from pyasn1-modules>=0.2.1->google.auth->llmx->-r ./requirement.txt (line 6)) (0.5.1)\n",
            "Collecting mypy-extensions>=0.3.0 (from typing-inspect<1,>=0.4.0->dataclasses-json<0.7,>=0.5.7->langchain->-r ./requirement.txt (line 2))\n",
            "  Downloading mypy_extensions-1.0.0-py3-none-any.whl (4.7 kB)\n",
            "Installing collected packages: python-dotenv, mypy-extensions, marshmallow, loguru, jsonpointer, importlib_metadata, h11, fastavro, dnspython, backoff, typing-inspect, tiktoken, pinecone-client, langsmith, jsonpatch, httpcore, langchain-core, httpx, dataclasses-json, cohere, openai, langchain-community, langchain\n",
            "  Attempting uninstall: importlib_metadata\n",
            "    Found existing installation: importlib-metadata 7.0.0\n",
            "    Uninstalling importlib-metadata-7.0.0:\n",
            "      Successfully uninstalled importlib-metadata-7.0.0\n",
            "Successfully installed backoff-2.2.1 cohere-4.39 dataclasses-json-0.6.3 dnspython-2.4.2 fastavro-1.9.1 h11-0.14.0 httpcore-1.0.2 httpx-0.25.2 importlib_metadata-6.11.0 jsonpatch-1.33 jsonpointer-2.4 langchain-0.0.350 langchain-community-0.0.3 langchain-core-0.1.1 langsmith-0.0.71 loguru-0.7.2 marshmallow-3.20.1 mypy-extensions-1.0.0 openai-1.5.0 pinecone-client-2.2.4 python-dotenv-1.0.0 tiktoken-0.5.2 typing-inspect-0.9.0\n"
          ]
        }
      ],
      "source": [
        "!pip install -r ./requirement.txt"
      ]
    },
    {
      "cell_type": "code",
      "source": [
        "from dotenv import load_dotenv, find_dotenv\n",
        "load_dotenv(find_dotenv(), override=True)"
      ],
      "metadata": {
        "colab": {
          "base_uri": "https://localhost:8080/"
        },
        "id": "8D5m_JMx4E-f",
        "outputId": "ecf96268-65d6-40d8-f1cf-8ddb016be64b"
      },
      "execution_count": 3,
      "outputs": [
        {
          "output_type": "execute_result",
          "data": {
            "text/plain": [
              "True"
            ]
          },
          "metadata": {},
          "execution_count": 3
        }
      ]
    },
    {
      "cell_type": "code",
      "source": [
        "from langchain.chat_models import ChatOpenAI\n",
        "from langchain.schema import SystemMessage\n",
        "from langchain.chains import LLMChain\n",
        "from langchain.prompts import ChatPromptTemplate, HumanMessagePromptTemplate\n",
        "\n",
        "llm = ChatOpenAI(model_name='gpt-3.5-turbo', temperature=1)"
      ],
      "metadata": {
        "id": "hpSrvObu4ZDj"
      },
      "execution_count": 6,
      "outputs": []
    },
    {
      "cell_type": "code",
      "source": [
        "prompt = ChatPromptTemplate(\n",
        "    input_variables = ['content'],\n",
        "    messages = [SystemMessage(content=\"you are having a conversation with a human\"),\n",
        "                HumanMessagePromptTemplate.from_template('{content}')]\n",
        ")"
      ],
      "metadata": {
        "id": "gvvA1cZk5Cas"
      },
      "execution_count": 8,
      "outputs": []
    },
    {
      "cell_type": "code",
      "source": [
        "chain = LLMChain(\n",
        "    llm = llm,\n",
        "    prompt = prompt,\n",
        "    verbose=False\n",
        ")"
      ],
      "metadata": {
        "id": "CReKoQD45jLA"
      },
      "execution_count": 9,
      "outputs": []
    },
    {
      "cell_type": "code",
      "source": [
        "while True:\n",
        "  content = input('Your Prompt: ')\n",
        "\n",
        "  if content in ['exit', 'bye']:\n",
        "    print(\"have a nice time ahead\")\n",
        "    break\n",
        "\n",
        "  response = chain.run({'content': content})\n",
        "  print(response)\n",
        "  print('_' * 30)"
      ],
      "metadata": {
        "colab": {
          "base_uri": "https://localhost:8080/"
        },
        "id": "WkL8SNrb6BxJ",
        "outputId": "ff7f2201-58d4-4ba2-b587-dd99ed73eebd"
      },
      "execution_count": 11,
      "outputs": [
        {
          "output_type": "stream",
          "name": "stdout",
          "text": [
            "Your Prompt: Bangalore is\n",
            "a city in southern India. It is the capital of the Indian state of Karnataka and is known for its booming IT industry. The city is also called the \"Silicon Valley of India\" due to the large number of software companies and tech startups that are based there. Bangalore has a pleasant climate, beautiful parks, and a rich cultural heritage. It is a vibrant and cosmopolitan city that attracts people from all over the world.\n",
            "______________________________\n",
            "Your Prompt: will AI replace the human\n",
            "As an AI, I don't have personal opinions, but I can provide you with some insights on the topic. AI has been emerging in various fields and has the potential to automate certain tasks traditionally done by humans. While AI technology is advancing rapidly, it is unlikely that it will completely replace humans in the foreseeable future. Instead, AI is more likely to assist and augment human capabilities, leading to increased efficiency and productivity. There are certain tasks that require human skills like empathy, creativity, critical thinking, and complex decision-making, which AI currently lacks. However, the extent to which AI will impact different industries and job sectors remains uncertain and will depend on various factors, including societal acceptance, ethical considerations, and technological advancements.\n",
            "______________________________\n",
            "Your Prompt: how many % of tech people leave in bangalore\n",
            "As an AI language model, I don't have real-time data, but Bangalore is known as the Silicon Valley of India. It attracts a large number of tech professionals from all over the country and even from around the world. Several reports suggest that a significant portion of the city's population is employed in the technology sector. While I don't have the exact percentage, it's safe to say that a considerable percentage of tech professionals live and work in Bangalore.\n",
            "______________________________\n",
            "Your Prompt: tell me about the bangalore history\n",
            "Certainly! Bangalore, now known as Bengaluru, has a rich and diverse history. The city's origins can be traced back to the 16th century when it was founded by Kempe Gowda, a local chieftain. It started as a small mud fort and developed into a prosperous trading town during the Vijayanagara Empire.\n",
            "\n",
            "Over the centuries, Bangalore changed hands several times, coming under the rule of different dynasties such as the Mughals, Marathas, and later the British East India Company. The city gained prominence during the colonial era when it became a major administrative center for the British. It served as the capital of the old Mysore State under the Wodeyar dynasty.\n",
            "\n",
            "One significant event in Bangalore's history was the establishment of the Cantonment area by the British in the early 19th century. This military cantonment played a pivotal role in shaping the city's growth and attracting a cosmopolitan population. It also led to the establishment of various educational institutions and contributed to Bangalore's reputation as a center for education and research.\n",
            "\n",
            "Bangalore witnessed rapid industrialization and modernization after India's independence in 1947. Its pleasant climate, well-established educational institutions, and supportive government policies attracted numerous industries, particularly in the fields of information technology, aerospace, and biotechnology. This transformation led to the city's nickname, the \"Silicon Valley of India.\"\n",
            "\n",
            "Today, Bengaluru is a bustling metropolis and one of India's most dynamic cities. It is renowned for its thriving IT sector, vibrant start-up culture, and a melting pot of diverse cultures. The city has witnessed rapid urbanization and has become a major economic and technological hub in India.\n",
            "\n",
            "The history of Bangalore is evident through its architectural landmarks and cultural heritage. From ancient temples, colonial-era buildings, and modern high-rises, the city showcases a beautiful blend of tradition and modernity. With its rich history and ever-evolving present, Bangalore continues to be a city of great significance in India.\n",
            "______________________________\n",
            "Your Prompt: tell me about the history\n",
            "Certainly! The history of humanity is a vast and complex subject, spanning thousands of years of human development and progress. It begins with the emergence of early human species around 2-3 million years ago, known as Homo habilis and Homo erectus.\n",
            "\n",
            "Around 200,000 years ago, Homo sapiens, our modern human species, appeared in Africa. They gradually migrated across the continents, adapting to various environments and developing sophisticated tools and technologies. The Paleolithic era, also known as the Old Stone Age, saw early humans adopting hunter-gatherer lifestyles.\n",
            "\n",
            "About 10,000 years ago, the Neolithic revolution marked a significant turning point in human history. People began to settle down in agricultural communities, leading to the rise of civilization. The first known ancient civilizations emerged in Mesopotamia (modern-day Iraq), Egypt, the Indus Valley, and China, among others.\n",
            "\n",
            "These civilizations developed writing systems, complex social hierarchies, and various technological advancements. The ancient world witnessed the construction of remarkable structures like the Great Pyramids, the Hanging Gardens of Babylon, and the Terracotta Army of China.\n",
            "\n",
            "In parallel, Greece produced advancements in philosophy, mathematics, and democracy, while the Roman Empire established one of the most extensive empires in history, spreading its influence across Europe, North Africa, and the Middle East.\n",
            "\n",
            "However, the fall of the Western Roman Empire in 476 CE marked the beginning of the Middle Ages, a period characterized by feudalism, the rise of Christianity, and frequent conflicts. This era saw the spread of Islam, the Crusades, and the Renaissance, a cultural and intellectual rebirth in Europe that began around the 14th century.\n",
            "\n",
            "The Age of Exploration in the 15th and 16th centuries transformed the world as Europeans ventured into unknown territories, establishing colonies and initiating trade routes. This period coincided with the Scientific Revolution, which brought significant advancements in various fields of science and sparked the Enlightenment.\n",
            "\n",
            "The 18th and 19th centuries marked the Industrial Revolution, a period of rapid industrialization and technological advancements. Steam power, mechanization, and the emergence of factories revolutionized production and transformed society.\n",
            "\n",
            "The 20th century witnessed major global conflicts, including World War I and II, which had profound impacts on politics, technology, and society. The post-war period saw the Cold War, space exploration, the rise of computers and the internet, and significant social movements for civil rights, feminism, and LGBTQ+ rights.\n",
            "\n",
            "Today, we live in an interconnected world, with unprecedented technological advancements and ongoing global challenges. The study of history helps us understand our origins, learn from past mistakes, and shape a better future for humanity.\n",
            "______________________________\n",
            "Your Prompt: exit\n",
            "have a nice time ahead\n"
          ]
        }
      ]
    },
    {
      "cell_type": "code",
      "source": [
        "##add memory on langchain"
      ],
      "metadata": {
        "id": "ggA9XqTo6hF-"
      },
      "execution_count": 16,
      "outputs": []
    },
    {
      "cell_type": "code",
      "source": [
        "from langchain.memory import ConversationBufferMemory\n",
        "from langchain.prompts import MessagesPlaceholder"
      ],
      "metadata": {
        "id": "_sRsnqis9PSu"
      },
      "execution_count": 17,
      "outputs": []
    },
    {
      "cell_type": "code",
      "source": [
        "llm = ChatOpenAI(model_name='gpt-3.5-turbo', temperature=1)\n",
        "\n",
        "memory = ConversationBufferMemory(\n",
        "    memory_key='chat_history',\n",
        "    return_messages=True\n",
        ")\n",
        "\n",
        "prompt = ChatPromptTemplate(\n",
        "    input_variables = ['content'],\n",
        "    messages = [SystemMessage(content=\"you are having a conversation with a human\"),\n",
        "                MessagesPlaceholder(variable_name='chat_history'),\n",
        "                HumanMessagePromptTemplate.from_template('{content}')]\n",
        ")\n",
        "\n",
        "chain = LLMChain(\n",
        "    llm = llm,\n",
        "    prompt = prompt,\n",
        "    memory = memory,\n",
        "    verbose=False\n",
        ")"
      ],
      "metadata": {
        "id": "QWSIQoYj9iJz"
      },
      "execution_count": 18,
      "outputs": []
    },
    {
      "cell_type": "code",
      "source": [
        "while True:\n",
        "  content = input('Your Prompt: ')\n",
        "\n",
        "  if content in ['exit', 'bye']:\n",
        "    print(\"have a nice time ahead\")\n",
        "    break\n",
        "\n",
        "  response = chain.run({'content': content})\n",
        "  print(response)\n",
        "  print('_' * 30)"
      ],
      "metadata": {
        "colab": {
          "base_uri": "https://localhost:8080/"
        },
        "id": "BCqoYULR-GZp",
        "outputId": "8f58aa2c-2680-4260-c0f2-e1545ce0a736"
      },
      "execution_count": 19,
      "outputs": [
        {
          "output_type": "stream",
          "name": "stdout",
          "text": [
            "Your Prompt: Earth Mass is\n",
            "the measure of the total mass of the planet Earth. It refers to the combined mass of all the elements, such as rocks, water, atmosphere, and living organisms, that make up our planet. The Earth's mass is approximately 5.97 x 10^24 kilograms, or about 1/3,330,000th the mass of the Sun.\n",
            "______________________________\n",
            "Your Prompt: Earth diameter is\n",
            "The diameter of the Earth is approximately 12,742 kilometers (7,918 miles) at the equator. It is slightly larger than the diameter measured from the poles, which is around 12,713 kilometers (7,900 miles). This difference is due to the Earth's slightly oblate shape, with the equatorial diameter being slightly wider than the polar diameter.\n",
            "______________________________\n",
            "Your Prompt: what question did i asked\n",
            "I apologize for the confusion. You asked about the diameter of the Earth.\n",
            "______________________________\n",
            "Your Prompt: add 2 plus 2\n",
            "2 plus 2 equals 4.\n",
            "______________________________\n",
            "Your Prompt: add 4 in existing answer\n",
            "If we add 4 to the existing answer, which is 4, the new sum would be 8.\n",
            "______________________________\n",
            "Your Prompt: exit\n",
            "have a nice time ahead\n"
          ]
        }
      ]
    },
    {
      "cell_type": "code",
      "source": [
        "#if you see in above query langchain is storing the past chat in memory"
      ],
      "metadata": {
        "id": "IGtPtDBp-J9I"
      },
      "execution_count": 20,
      "outputs": []
    },
    {
      "cell_type": "code",
      "source": [],
      "metadata": {
        "id": "U53HBBh__Svu"
      },
      "execution_count": null,
      "outputs": []
    }
  ]
}